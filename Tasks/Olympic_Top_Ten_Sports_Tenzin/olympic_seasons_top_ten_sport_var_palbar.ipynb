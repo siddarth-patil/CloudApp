{
 "cells": [
  {
   "cell_type": "code",
   "execution_count": 1,
   "metadata": {},
   "outputs": [],
   "source": [
    "import pandas as pd\n",
    "import numpy as np\n",
    "import plotly.express as px"
   ]
  },
  {
   "cell_type": "code",
   "execution_count": 2,
   "metadata": {},
   "outputs": [],
   "source": [
    "import dash\n",
    "import dash_core_components as dcc\n",
    "import dash_html_components as html\n",
    "from dash.dependencies import Input, Output"
   ]
  },
  {
   "cell_type": "code",
   "execution_count": 3,
   "metadata": {},
   "outputs": [],
   "source": [
    "athlete_info_palbar = pd.read_csv('athlete_events.csv', sep=',')"
   ]
  },
  {
   "cell_type": "code",
   "execution_count": 4,
   "metadata": {},
   "outputs": [],
   "source": [
    "sport_participants_palbar = athlete_info_palbar.groupby(['Season', 'Sport']).agg({'ID':'nunique'}).reset_index()\n",
    "sport_participants_palbar = sport_participants_palbar.rename(columns={'ID': 'Participants'})"
   ]
  },
  {
   "cell_type": "code",
   "execution_count": 5,
   "metadata": {},
   "outputs": [],
   "source": [
    "year_sport_participants_palbar = athlete_info_palbar.groupby(['Year','Season','Sport']).agg({'ID':'nunique'}).reset_index()\n",
    "year_sport_participants_palbar = year_sport_participants_palbar.rename(columns={'ID': 'Participants'})"
   ]
  },
  {
   "cell_type": "code",
   "execution_count": 6,
   "metadata": {},
   "outputs": [],
   "source": [
    "season_option_list_palbar = []\n",
    "season_list_palbar = sport_participants_palbar['Season'].unique()\n",
    "for i in season_list_palbar:\n",
    "    season_option_list_palbar.append({'label':i, 'value':i})"
   ]
  },
  {
   "cell_type": "code",
   "execution_count": 7,
   "metadata": {},
   "outputs": [],
   "source": [
    "year_option_list_palbar = []\n",
    "year_list_palbar = np.sort(athlete_info_palbar[\"Year\"].unique())\n",
    "for i in year_list_palbar:\n",
    "    year_option_list_palbar.append({'label':i, 'value':i})"
   ]
  },
  {
   "cell_type": "code",
   "execution_count": 27,
   "metadata": {},
   "outputs": [
    {
     "name": "stdout",
     "output_type": "stream",
     "text": [
      " * Serving Flask app \"__main__\" (lazy loading)\n",
      " * Environment: production\n",
      "   WARNING: This is a development server. Do not use it in a production deployment.\n",
      "   Use a production WSGI server instead.\n",
      " * Debug mode: off\n"
     ]
    },
    {
     "name": "stderr",
     "output_type": "stream",
     "text": [
      " * Running on http://127.0.0.1:8050/ (Press CTRL+C to quit)\n",
      "127.0.0.1 - - [16/Dec/2020 14:38:03] \"\u001b[37mGET / HTTP/1.1\u001b[0m\" 200 -\n",
      "127.0.0.1 - - [16/Dec/2020 14:38:04] \"\u001b[37mGET /_dash-layout HTTP/1.1\u001b[0m\" 200 -\n",
      "127.0.0.1 - - [16/Dec/2020 14:38:04] \"\u001b[37mGET /_dash-dependencies HTTP/1.1\u001b[0m\" 200 -\n",
      "127.0.0.1 - - [16/Dec/2020 14:38:04] \"\u001b[37mPOST /_dash-update-component HTTP/1.1\u001b[0m\" 200 -\n",
      "127.0.0.1 - - [16/Dec/2020 14:38:07] \"\u001b[37mPOST /_dash-update-component HTTP/1.1\u001b[0m\" 200 -\n",
      "127.0.0.1 - - [16/Dec/2020 14:38:11] \"\u001b[37mPOST /_dash-update-component HTTP/1.1\u001b[0m\" 200 -\n",
      "127.0.0.1 - - [16/Dec/2020 14:38:14] \"\u001b[37mPOST /_dash-update-component HTTP/1.1\u001b[0m\" 200 -\n",
      "127.0.0.1 - - [16/Dec/2020 14:38:19] \"\u001b[37mPOST /_dash-update-component HTTP/1.1\u001b[0m\" 200 -\n"
     ]
    }
   ],
   "source": [
    "app = dash.Dash()\n",
    "app.layout = html.Div([    \n",
    "    html.Div('Olympic Season Top Ten Sports with the Highest Numbers of Participants'),\n",
    "    html.Br(),\n",
    "    html.Label('Note: Winter and Summer Olympic were held in the same year up until 1992. After 1992, Olympic Games occured on a four year cycle starting with Winter in 1994, then Summer in 1996, then Winter in 1998, and so on.'),\n",
    "    html.Br(),\n",
    "    html.Br(),\n",
    "    html.Label('Select the Olympic season to see the top ten sports with the highest numbers of athletes participantion'),\n",
    "    html.Br(),\n",
    "    html.Br(),\n",
    "    html.Label('Select Season:', style = {'width':'50%', 'display':'inline-block'}),\n",
    "    \n",
    "    html.Label('Select Year of the Season:', style = {'text-align':'left', 'width':'50%', 'display':'inline-block'}),\n",
    "    \n",
    "    html.Div(dcc.Dropdown(id = 'dropdown_season_palbar', options = season_option_list_palbar, value = 'Summer'),\n",
    "             style = {'text-align':'center', 'width':'30%', 'display':'inline-block'}\n",
    "            ),\n",
    "    \n",
    "    html.Div(dcc.Dropdown(id = 'dropdown_year_palbar', options = year_option_list_palbar, value = 1992),\n",
    "             style = {'text-align':'center', 'width':'30%', 'display':'inline-block', 'margin-left':'300px'}\n",
    "            ),\n",
    "    html.Br(),\n",
    "    \n",
    "    html.Div([dcc.Graph(id = 'plot_sport_graph_palbar', figure = {})], style = {'display':'inline-block'}),\n",
    "    html.Div([dcc.Graph(id = 'plot_year_graph_palbar', figure = {})], style = {'display':'inline-block'}),\n",
    "                    ])\n",
    "\n",
    "@app.callback([dash.dependencies.Output('plot_sport_graph_palbar', 'figure'),\n",
    "               dash.dependencies.Output('plot_year_graph_palbar', 'figure')],\n",
    "              [dash.dependencies.Input('dropdown_season_palbar', 'value'),\n",
    "               dash.dependencies.Input('dropdown_year_palbar', 'value')]\n",
    "             )\n",
    "\n",
    "def update_graph(dropdown_season_palbar,dropdown_year_palbar):\n",
    "    season_sport_participants_palbar = sport_participants_palbar.copy()\n",
    "    season_sport_participants_palbar = season_sport_participants_palbar[season_sport_participants_palbar['Season'] == dropdown_season_palbar]\n",
    "    \n",
    "    sorted_sport_participants_palbar = season_sport_participants_palbar.sort_values('Participants',ascending = False)\n",
    "    top_ten_participants_palbar = sorted_sport_participants_palbar[:10]\n",
    "    sport_fig_palbar = px.bar(top_ten_participants_palbar.sort_values('Participants',ascending=True), x='Participants', y='Sport',\n",
    "                       color_discrete_sequence =['lightblue']*len(top_ten_participants_palbar))\n",
    "    \n",
    "    year_sport_palbar = year_sport_participants_palbar.copy()\n",
    "    year_sport_palbar = year_sport_palbar[year_sport_palbar['Season'] == dropdown_season_palbar]\n",
    "    \n",
    "    year_participants_palbar = year_sport_palbar[year_sport_palbar['Year'] == dropdown_year_palbar]\n",
    "    sorted_year_palbar = year_participants_palbar.sort_values('Participants',ascending = False)\n",
    "    top_ten_year_palbar = sorted_year_palbar[:10]\n",
    "    year_fig_palbar = px.bar(top_ten_year_palbar.sort_values('Participants',ascending=True), x='Participants', y='Sport',\n",
    "                       color_discrete_sequence =['lightblue']*len(top_ten_participants_palbar))\n",
    "    \n",
    "    sport_fig_palbar.update_layout(\n",
    "        width = 650,\n",
    "        height = 500,\n",
    "        title = '<b>Top Ten Sports In Olympic {} Season</b>'.format(dropdown_season_palbar),\n",
    "        xaxis_tickangle = -45,\n",
    "        paper_bgcolor='rgba(0,0,0,0)',\n",
    "        plot_bgcolor='rgba(0,0,0,0)',\n",
    "        xaxis = dict(\n",
    "            title = '<b>Total Number of Participants</b>',\n",
    "            title_font = {'size': 14},\n",
    "            tickmode = 'linear',\n",
    "            tick0 = 0,\n",
    "            dtick = 2000,\n",
    "            range = [0, 23000],\n",
    "            gridwidth = 1,\n",
    "            gridcolor = 'lightblue',\n",
    "        ),\n",
    "        yaxis = dict(\n",
    "            title = '<b>Sport</b>',\n",
    "            title_font = {'size': 14}\n",
    "        )\n",
    "    ),\n",
    "    \n",
    "    year_fig_palbar.update_layout(\n",
    "        width = 650,\n",
    "        height = 500,\n",
    "        title = '<b>Top Ten Sports In Olympic {} Season Year {}</b>'.format(dropdown_season_palbar,dropdown_year_palbar),\n",
    "        xaxis_tickangle = -45,\n",
    "        paper_bgcolor='rgba(0,0,0,0)',\n",
    "        plot_bgcolor='rgba(0,0,0,0)',\n",
    "        xaxis = dict(\n",
    "            title = '<b>Total Number of Participants</b>',\n",
    "            title_font = {'size': 14},\n",
    "            tickmode = 'linear',\n",
    "            tick0 = 0,\n",
    "            dtick = 200,\n",
    "            range = [0, 2300],\n",
    "            gridwidth = 1,\n",
    "            gridcolor = 'lightblue'\n",
    "        ),\n",
    "        yaxis = dict(\n",
    "            title = '<b>Sport</b>',\n",
    "            title_font = {'size': 14}\n",
    "        )\n",
    "    )    \n",
    "    return sport_fig_palbar,year_fig_palbar\n",
    "\n",
    "if __name__ == '__main__':\n",
    "    app.run_server()"
   ]
  },
  {
   "cell_type": "code",
   "execution_count": null,
   "metadata": {},
   "outputs": [],
   "source": []
  }
 ],
 "metadata": {
  "kernelspec": {
   "display_name": "Python 3",
   "language": "python",
   "name": "python3"
  },
  "language_info": {
   "codemirror_mode": {
    "name": "ipython",
    "version": 3
   },
   "file_extension": ".py",
   "mimetype": "text/x-python",
   "name": "python",
   "nbconvert_exporter": "python",
   "pygments_lexer": "ipython3",
   "version": "3.8.5"
  }
 },
 "nbformat": 4,
 "nbformat_minor": 4
}
