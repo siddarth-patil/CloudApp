{
 "cells": [
  {
   "cell_type": "code",
   "execution_count": 1,
   "metadata": {},
   "outputs": [],
   "source": [
    "import plotly.graph_objects as go\n",
    "import pandas as pd\n",
    "from numpy import nan\n",
    "from jupyter_dash import JupyterDash\n",
    "import dash\n",
    "import dash_core_components as dcc\n",
    "import dash_html_components as html\n",
    "import dash_bootstrap_components as dbc\n",
    "\n",
    "\n",
    "athelet_info_lzx = pd.read_csv('athlete_events.csv')\n",
    "noc_regions_lzx = pd.read_csv('noc_regions.csv')\n",
    "athelet_info_lzx['NOC']= athelet_info_lzx['NOC'].replace('SGP','SIN')\n",
    "noc_regions_lzx['region']= noc_regions_lzx['region'].replace('Boliva','Bolivia')"
   ]
  },
  {
   "cell_type": "code",
   "execution_count": 2,
   "metadata": {},
   "outputs": [],
   "source": [
    "app = JupyterDash(__name__, external_stylesheets=[dbc.themes.BOOTSTRAP])"
   ]
  },
  {
   "cell_type": "code",
   "execution_count": 3,
   "metadata": {},
   "outputs": [],
   "source": [
    "app.layout = html.Div(children=[\n",
    "    html.H1(children = 'Medals'),\n",
    "\n",
    "    html.H2(children = 'Select a Medal type:'),\n",
    "    dcc.Dropdown(\n",
    "                id='medals',\n",
    "                options=[{'label': i, 'value': i} for i in ['All','Gold','Silver','Bronze']],\n",
    "                value='All',\n",
    "                clearable = False,\n",
    "                searchable = False,\n",
    "                style = {'width':'50%'}\n",
    "            ),\n",
    "    dcc.Graph(\n",
    "        id='choropleth',\n",
    "        style = {'width':'50%'}\n",
    "    )\n",
    "])"
   ]
  },
  {
   "cell_type": "code",
   "execution_count": 4,
   "metadata": {},
   "outputs": [],
   "source": [
    "def update_dataframe(medal_type):\n",
    "    if(medal_type == 'All'):\n",
    "        NOC_group = pd.DataFrame(athelet_info_lzx.groupby(['NOC'])['Medal'].count())\n",
    "        return pd.merge(NOC_group,noc_regions_lzx,how='inner',on=[NOC_group.index, noc_regions_lzx.NOC])\n",
    "    else:\n",
    "        temp = pd.DataFrame(athelet_info_lzx[athelet_info_lzx.Medal == medal_type][['NOC','Medal']].groupby(['NOC']).count()).reset_index()\n",
    "        result = pd.merge(noc_regions_lzx,temp, how='left', on='NOC')\n",
    "        result.Medal = result.Medal.fillna(0)\n",
    "        return result\n",
    "\n",
    "@app.callback(\n",
    "    dash.dependencies.Output('choropleth','figure'),\n",
    "    dash.dependencies.Input('medals','value'))\n",
    "def update_graph(medal_type):\n",
    "    \n",
    "    data = update_dataframe(medal_type)    \n",
    "    color = ''\n",
    "    tick_step = 0\n",
    "    reverse = True\n",
    "    \n",
    "    if (medal_type == 'All'):\n",
    "        color = 'Purples'\n",
    "        tick_step = 500\n",
    "\n",
    "    elif (medal_type == 'Gold'):\n",
    "        color = 'solar'\n",
    "        tick_step = 200\n",
    "        reverse = False\n",
    "\n",
    "    elif (medal_type == 'Silver'):\n",
    "        color = 'Greys'\n",
    "        tick_step = 200\n",
    "\n",
    "    elif (medal_type == 'Bronze'):\n",
    "        color = 'OrRd'\n",
    "        tick_step = 200\n",
    "\n",
    "    return go.Figure(data=go.Choropleth(\n",
    "    locations = data.region,\n",
    "    z = data['Medal'],\n",
    "    text = data.NOC,\n",
    "    colorscale = color,\n",
    "    autocolorscale=False,\n",
    "    reversescale=reverse,\n",
    "    marker_line_color='darkgray',\n",
    "    colorbar_title = 'The Number of Medals',\n",
    "    locationmode = 'country names',\n",
    "    \n",
    "    )).update_traces(\n",
    "    colorbar = dict(\n",
    "        ticks = 'outside',\n",
    "        tickmode = 'linear',\n",
    "        tick0 = 0,\n",
    "        dtick = tick_step\n",
    "    ),\n",
    "        \n",
    "    ).update_layout(\n",
    "    title_text='The Number of '+ medal_type + ' Medals Won By Each Country in Olympic Games From 1896 - 2016',\n",
    "    height = 540,\n",
    "    width = 960,\n",
    "    geo=dict(\n",
    "        showframe=False,\n",
    "        showcoastlines=False,\n",
    "        projection_type='equirectangular',\n",
    "    ),\n",
    "    annotations = [dict(\n",
    "        x=0.5,\n",
    "        y=-0.1,\n",
    "        xref='paper',\n",
    "        yref='paper',\n",
    "        text='Data Source: <a href=\"https://www.kaggle.com/heesoo37/120-years-of-olympic-history-athletes-and-results\">\\\n",
    "            Kaggle</a>',\n",
    "        showarrow = False\n",
    "    )])\n",
    "    \n"
   ]
  },
  {
   "cell_type": "code",
   "execution_count": 5,
   "metadata": {},
   "outputs": [
    {
     "name": "stdout",
     "output_type": "stream",
     "text": [
      "Dash app running on http://127.0.0.1:8052/\n"
     ]
    }
   ],
   "source": [
    "if __name__ == '__main__':\n",
    "    app.run_server( mode = 'external',debug = True, port= 8052)"
   ]
  },
  {
   "cell_type": "code",
   "execution_count": null,
   "metadata": {},
   "outputs": [],
   "source": []
  },
  {
   "cell_type": "code",
   "execution_count": null,
   "metadata": {},
   "outputs": [],
   "source": []
  },
  {
   "cell_type": "code",
   "execution_count": null,
   "metadata": {},
   "outputs": [],
   "source": []
  }
 ],
 "metadata": {
  "kernelspec": {
   "display_name": "Python 3",
   "language": "python",
   "name": "python3"
  },
  "language_info": {
   "codemirror_mode": {
    "name": "ipython",
    "version": 3
   },
   "file_extension": ".py",
   "mimetype": "text/x-python",
   "name": "python",
   "nbconvert_exporter": "python",
   "pygments_lexer": "ipython3",
   "version": "3.9.1"
  }
 },
 "nbformat": 4,
 "nbformat_minor": 4
}
